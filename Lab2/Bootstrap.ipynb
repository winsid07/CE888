{
  "cells": [
    {
      "cell_type": "code",
      "execution_count": 1,
      "id": "093c7b77",
      "metadata": {
        "id": "093c7b77"
      },
      "outputs": [],
      "source": [
        "import matplotlib.pyplot as plt\n",
        "import pandas as pd\n",
        "import seaborn as sns\n",
        "import numpy as np\n",
        "from random import randint"
      ]
    },
    {
      "cell_type": "code",
      "execution_count": 2,
      "id": "597ba944",
      "metadata": {
        "id": "597ba944"
      },
      "outputs": [],
      "source": [
        "# Load the data\n",
        "df = pd.read_csv('https://raw.githubusercontent.com/albanda/CE888/master/lab2%20-%20bootstrap/customers.csv')\n",
        "data = df.values.T[1]"
      ]
    },
    {
      "cell_type": "code",
      "execution_count": 3,
      "id": "31d780be",
      "metadata": {
        "id": "31d780be"
      },
      "outputs": [],
      "source": [
        "# Checking the notes from the lecture, create here your own bootstrap function:\n",
        "# 1. Sample from the input array x to create an array of samples of shape (n_bootstraps, sample_size)\n",
        "# Hint: Check the function random.choice() on Numpy\n",
        "# 2. Calculate and save the mean of the array (this is \"data_mean\" that is returned by the function)\n",
        "# 3. Calculate the mean from each bootstrap (i.e., row) and store it.\n",
        "# (This should be an array of n_bootstraps values)\n",
        "# 4. Calculate the lower and upper bounds for a 95% CI (hint: check the percentile function on Numpy)\n",
        "# 5. Return data_mean, and the lower and upper bounds of your interval\n",
        "def bootstrap_mean(x, sample_size, n_bootstraps):\n",
        "\t# <---INSERT YOUR CODE HERE--->\n",
        "  x = np.array(x)\n",
        "  bootstrap_array = np.random.choice(x, size = (n_bootstraps,sample_size),replace = True)\n",
        "  data_mean = bootstrap_array.mean()\n",
        "  mean_array = []\n",
        "  for i in range(bootstrap_array.shape[0]):\n",
        "    mean_array.append(bootstrap_array[i].mean())\n",
        "  mean_array.sort()\n",
        "  lower = np.percentile(mean_array,2.5)\n",
        "  upper = np.percentile(mean_array,97.5)\n",
        "  return data_mean, lower, upper"
      ]
    },
    {
      "cell_type": "code",
      "execution_count": 4,
      "id": "39fa9eb4",
      "metadata": {
        "colab": {
          "base_uri": "https://localhost:8080/",
          "height": 458
        },
        "id": "39fa9eb4",
        "outputId": "c9d1c205-bb28-4a2a-ba08-7d732b1cbfed"
      },
      "outputs": [
        {
          "output_type": "stream",
          "name": "stdout",
          "text": [
            "[ 2.  8. 20. 13.  5.  9. 10.  8. 22. 10.  2.  4.  7.  9.]\n"
          ]
        },
        {
          "output_type": "stream",
          "name": "stderr",
          "text": [
            "/usr/local/lib/python3.7/dist-packages/seaborn/_decorators.py:43: FutureWarning: Pass the following variables as keyword args: x, y. From version 0.12, the only valid positional argument will be `data`, and passing other arguments without an explicit keyword will result in an error or misinterpretation.\n",
            "  FutureWarning\n"
          ]
        },
        {
          "output_type": "execute_result",
          "data": {
            "text/plain": [
              "(0.0, 50000.0)"
            ]
          },
          "metadata": {},
          "execution_count": 4
        },
        {
          "output_type": "display_data",
          "data": {
            "text/plain": [
              "<Figure size 425.125x360 with 1 Axes>"
            ],
            "image/png": "[encoded data removed]"
          },
          "metadata": {
            "needs_background": "light"
          }
        }
      ],
      "source": [
        "# Call your bootstrap function and plot the results\n",
        "\n",
        "boots = []\n",
        "print(data)\n",
        "for i in range(100, 50000, 1000):\n",
        "    boot = bootstrap_mean(data, data.shape[0], i)\n",
        "    boots.append([i, boot[0], \"mean\"])\n",
        "    boots.append([i, boot[1], \"lower\"])\n",
        "    boots.append([i, boot[2], \"upper\"])\n",
        "\n",
        "df_boot = pd.DataFrame(boots, columns=['Bootstrap Iterations', 'Mean', \"Value\"])\n",
        "sns_plot = sns.lmplot(df_boot.columns[0], df_boot.columns[1], data=df_boot, fit_reg=False, hue=\"Value\")\n",
        "\n",
        "sns_plot.axes[0, 0].set_ylim(0,)\n",
        "sns_plot.axes[0, 0].set_xlim(0, 50000)"
      ]
    },
    {
      "cell_type": "code",
      "execution_count": 6,
      "id": "762847ab",
      "metadata": {
        "id": "762847ab"
      },
      "outputs": [],
      "source": [
        "def bootstrap_mean_ci(sample, sample_size, n_bootstraps, ci):\n",
        "\t# <---INSERT YOUR CODE HERE--->\n",
        "  ci_low=(100-ci)/2\n",
        "  ci_hi=ci+ci_low\n",
        "  # print(ci_low,ci_hi)\n",
        "  arr=[]\n",
        "  # print(np.random.choice(x,sample_size))\n",
        "  for i in range(0,n_bootstraps):\n",
        "    arr.append(np.mean(np.random.choice(sample,sample_size)))\n",
        "  data_mean=np.mean(arr)\n",
        "  lower=np.percentile(arr,ci_low)\n",
        "  upper=np.percentile(arr,ci_hi)\n",
        "  return data_mean, lower, upper"
      ]
    },
    {
      "cell_type": "code",
      "execution_count": 7,
      "id": "92671862",
      "metadata": {
        "colab": {
          "base_uri": "https://localhost:8080/",
          "height": 441
        },
        "id": "92671862",
        "outputId": "ea373e70-73f1-45d2-f006-9b8e60537e2a"
      },
      "outputs": [
        {
          "output_type": "stream",
          "name": "stderr",
          "text": [
            "/usr/local/lib/python3.7/dist-packages/seaborn/_decorators.py:43: FutureWarning: Pass the following variables as keyword args: x, y. From version 0.12, the only valid positional argument will be `data`, and passing other arguments without an explicit keyword will result in an error or misinterpretation.\n",
            "  FutureWarning\n"
          ]
        },
        {
          "output_type": "execute_result",
          "data": {
            "text/plain": [
              "(0.0, 50000.0)"
            ]
          },
          "metadata": {},
          "execution_count": 7
        },
        {
          "output_type": "display_data",
          "data": {
            "text/plain": [
              "<Figure size 425.125x360 with 1 Axes>"
            ],
            "image/png": "[encoded data removed]"
          },
          "metadata": {
            "needs_background": "light"
          }
        }
      ],
      "source": [
        "boots = []\n",
        "for i in range(100, 50000, 1000):\n",
        "    boot = bootstrap_mean_ci(data, data.shape[0], i, 80)\n",
        "    boots.append([i, boot[0], \"mean\"])\n",
        "    boots.append([i, boot[1], \"lower\"])\n",
        "    boots.append([i, boot[2], \"upper\"])\n",
        "\n",
        "df_boot = pd.DataFrame(boots, columns=['Boostrap Iterations', 'Mean', \"Value\"])\n",
        "sns_plot = sns.lmplot(df_boot.columns[0], df_boot.columns[1], data=df_boot, fit_reg=False, hue=\"Value\")\n",
        "\n",
        "sns_plot.axes[0, 0].set_ylim(0,)\n",
        "sns_plot.axes[0, 0].set_xlim(0, 50000)\n",
        "\n",
        "#sns_plot.savefig(\"bootstrap_confidence_80.pdf\", bbox_inches='tight')"
      ]
    },
    {
      "cell_type": "markdown",
      "id": "137490f9",
      "metadata": {
        "id": "137490f9"
      },
      "source": [
        "Vehicles Data Set"
      ]
    },
    {
      "cell_type": "code",
      "execution_count": 8,
      "id": "daf44cf9",
      "metadata": {
        "colab": {
          "base_uri": "https://localhost:8080/"
        },
        "id": "daf44cf9",
        "outputId": "3759e6e0-8b06-49c6-9ac5-364d03c4c4ca"
      },
      "outputs": [
        {
          "output_type": "stream",
          "name": "stdout",
          "text": [
            "   Current fleet  New Fleet\n",
            "0             18       24.0\n",
            "1             15       27.0\n",
            "2             18       27.0\n",
            "3             16       25.0\n",
            "4             17       31.0\n",
            "5             15       35.0\n",
            "6             14       24.0\n",
            "7             14       19.0\n",
            "8             14       28.0\n",
            "9             15       23.0\n",
            "\n",
            "\n",
            "Statiscal Information\n",
            "       Current fleet  New Fleet\n",
            "count     249.000000  79.000000\n",
            "mean       20.144578  30.481013\n",
            "std         6.414699   6.107710\n",
            "min         9.000000  18.000000\n",
            "25%        15.000000  25.500000\n",
            "50%        19.000000  32.000000\n",
            "75%        24.000000  34.000000\n",
            "max        39.000000  47.000000\n"
          ]
        }
      ],
      "source": [
        "# Load and visualise the vehicles dataset\n",
        "# To load the dataset: https://neptune.ai/blog/google-colab-dealing-with-files (check section \"Load individual files directly from GitHub\")\n",
        "\n",
        "\n",
        "# Note that the current and new fleets are in different columns and have different lengths, so bear this in mind when you're plotting.\n",
        "# You can create separate scatterplots for the two fleets, as you would with the histograms, \n",
        "# or plot them both in one plot (but not one against the other).\n",
        "# <---INSERT YOUR CODE HERE--->\n",
        "Vehicle_df = pd.read_csv('https://raw.githubusercontent.com/albanda/CE888/master/lab2%20-%20bootstrap/vehicles.csv')\n",
        "print(Vehicle_df.head(10))\n",
        "print('\\n')\n",
        "print('Statiscal Information')\n",
        "print(Vehicle_df.describe())\n",
        "# Note: you can add more cells as needed to organise your code and your plots"
      ]
    },
    {
      "cell_type": "code",
      "execution_count": 10,
      "id": "5c44b168",
      "metadata": {
        "colab": {
          "base_uri": "https://localhost:8080/"
        },
        "id": "5c44b168",
        "outputId": "ae0c4829-e71f-43b7-fcec-0c58b2bba185"
      },
      "outputs": [
        {
          "output_type": "execute_result",
          "data": {
            "text/plain": [
              "Current fleet      0\n",
              "New Fleet        170\n",
              "dtype: int64"
            ]
          },
          "metadata": {},
          "execution_count": 10
        }
      ],
      "source": [
        "Vehicle_df.isnull().sum()"
      ]
    },
    {
      "cell_type": "code",
      "execution_count": 11,
      "id": "388a604d",
      "metadata": {
        "colab": {
          "base_uri": "https://localhost:8080/",
          "height": 282
        },
        "id": "388a604d",
        "outputId": "3fd05094-81f1-4710-c9fb-0c581b89ffc1"
      },
      "outputs": [
        {
          "output_type": "execute_result",
          "data": {
            "text/plain": [
              "<matplotlib.legend.Legend at 0x7faf58cdde90>"
            ]
          },
          "metadata": {},
          "execution_count": 11
        },
        {
          "output_type": "display_data",
          "data": {
            "text/plain": [
              "<Figure size 432x288 with 1 Axes>"
            ],
            "image/png": "[encoded data removed]"
          },
          "metadata": {
            "needs_background": "light"
          }
        }
      ],
      "source": [
        "plt.plot(Vehicle_df['Current fleet'],color = 'r',label = 'Cur Fleet')\n",
        "plt.plot(Vehicle_df['New Fleet'],color = 'b',label = 'New Fleet')\n",
        "plt.legend()"
      ]
    },
    {
      "cell_type": "code",
      "execution_count": 12,
      "id": "141db83e",
      "metadata": {
        "colab": {
          "base_uri": "https://localhost:8080/",
          "height": 296
        },
        "id": "141db83e",
        "outputId": "155bac0b-e78b-477c-c788-60904b7dffca"
      },
      "outputs": [
        {
          "output_type": "execute_result",
          "data": {
            "text/plain": [
              "<matplotlib.axes._subplots.AxesSubplot at 0x7faf5bbfa090>"
            ]
          },
          "metadata": {},
          "execution_count": 12
        },
        {
          "output_type": "display_data",
          "data": {
            "text/plain": [
              "<Figure size 432x288 with 1 Axes>"
            ],
            "image/png": "[encoded data removed]"
          },
          "metadata": {
            "needs_background": "light"
          }
        }
      ],
      "source": [
        "sns.histplot(Vehicle_df['Current fleet'], bins = 40)"
      ]
    },
    {
      "cell_type": "code",
      "execution_count": 13,
      "id": "3f677db4",
      "metadata": {
        "colab": {
          "base_uri": "https://localhost:8080/",
          "height": 296
        },
        "id": "3f677db4",
        "outputId": "869e5add-da5e-48f3-8a99-9c7b6b985300"
      },
      "outputs": [
        {
          "output_type": "execute_result",
          "data": {
            "text/plain": [
              "<matplotlib.axes._subplots.AxesSubplot at 0x7faf58bb3f90>"
            ]
          },
          "metadata": {},
          "execution_count": 13
        },
        {
          "output_type": "display_data",
          "data": {
            "text/plain": [
              "<Figure size 432x288 with 1 Axes>"
            ],
            "image/png": "[encoded data removed]"
          },
          "metadata": {
            "needs_background": "light"
          }
        }
      ],
      "source": [
        "sns.histplot(Vehicle_df['New Fleet'], bins = 45)"
      ]
    },
    {
      "cell_type": "markdown",
      "id": "9af17cc2",
      "metadata": {
        "id": "9af17cc2"
      },
      "source": [
        "Compare the two fleets\n",
        "The business analysts come up a comparison algorithm that requires the upper and lower bounds for the mean in order to say which fleet is better.\n",
        "\n",
        "Calculate the mean of both samples.\n",
        "Using the bootstrap function that you created:\n",
        "Construct the 95% CI of the mean of the current fleet.\n",
        "Construct the 95% CI of the mean of the new fleet.\n",
        "Are they comparable? (i.e., is one better than the other?) -- you can do this with a permutation test (check the lecture notes!)"
      ]
    },
    {
      "cell_type": "code",
      "execution_count": 14,
      "id": "016c349c",
      "metadata": {
        "colab": {
          "base_uri": "https://localhost:8080/"
        },
        "id": "016c349c",
        "outputId": "aa9dfe4b-a81c-4100-8bd6-9aa736e3f02e"
      },
      "outputs": [
        {
          "output_type": "stream",
          "name": "stdout",
          "text": [
            "Current Fleet mean  20.14457831325301\n",
            "New Fleet mean  30.481012658227847\n"
          ]
        }
      ],
      "source": [
        "# <---INSERT YOUR CODE HERE--->\n",
        "Cur_fl_mean = Vehicle_df['Current fleet'].mean()\n",
        "New_fl_mean = Vehicle_df['New Fleet'].mean()\n",
        "print('Current Fleet mean ', Cur_fl_mean)\n",
        "print('New Fleet mean ', New_fl_mean)"
      ]
    },
    {
      "cell_type": "code",
      "execution_count": 15,
      "id": "f6056a30",
      "metadata": {
        "id": "f6056a30"
      },
      "outputs": [],
      "source": [
        "def permutation(Concat_array):\n",
        "  np.random.shuffle(Concat_array)\n",
        "  return Concat_array"
      ]
    },
    {
      "cell_type": "code",
      "execution_count": 16,
      "id": "75628df3",
      "metadata": {
        "id": "75628df3"
      },
      "outputs": [],
      "source": [
        "# Create your own function for a permutation test here (you will need it for the lab quiz!):\n",
        "def permut_test(sample1, sample2, n_permutations):\n",
        "  count = 0\n",
        "  sample1 = np.array(sample1)\n",
        "  #print(len(sample1))\n",
        "  sample2 = np.array(sample2)\n",
        "  #print(len(sample2))\n",
        "  s1_l = len(sample1)\n",
        "  s1_mean = sample1.mean()\n",
        "  s2_mean = sample2.mean()\n",
        "  tobs = s2_mean - s1_mean\n",
        "  #print(\"Intial mean value :\",tobs)\n",
        "  for i in range(n_permutations):\n",
        "    concat  = np.concatenate((sample1,sample2))\n",
        "    concat = permutation(concat)\n",
        "    new_s1 = concat[:s1_l]\n",
        "    new_s2 = concat[s1_l:]\n",
        "    #print(len(new_s1))\n",
        "    new_s1_mean = new_s1.mean()\n",
        "    new_s2_mean = new_s2.mean()\n",
        "    tperm = new_s2_mean - new_s1_mean\n",
        "    #print(tperm)\n",
        "    if tperm > tobs :\n",
        "      count += 1\n",
        "  pvalue = count/n_permutations\n",
        "  print(\"Permutation value is \", pvalue)\n",
        "  return pvalue"
      ]
    },
    {
      "cell_type": "code",
      "execution_count": 17,
      "id": "dfd7028f",
      "metadata": {
        "colab": {
          "base_uri": "https://localhost:8080/"
        },
        "id": "dfd7028f",
        "outputId": "a31c598e-02fc-41b8-e0ea-072f1e6e736e"
      },
      "outputs": [
        {
          "output_type": "stream",
          "name": "stdout",
          "text": [
            "0      18\n",
            "1      15\n",
            "2      18\n",
            "3      16\n",
            "4      17\n",
            "       ..\n",
            "244    27\n",
            "245    27\n",
            "246    32\n",
            "247    28\n",
            "248    31\n",
            "Name: Current fleet, Length: 249, dtype: int64\n",
            "0     24\n",
            "1     27\n",
            "2     27\n",
            "3     25\n",
            "4     31\n",
            "      ..\n",
            "74    34\n",
            "75    38\n",
            "76    32\n",
            "77    38\n",
            "78    32\n",
            "Name: New Fleet, Length: 79, dtype: int64\n"
          ]
        }
      ],
      "source": [
        "old_flt = Vehicle_df['Current fleet'].dropna()\n",
        "new_flt = Vehicle_df['New Fleet'].dropna().astype(\"int64\")\n",
        "print(old_flt)\n",
        "print(new_flt)"
      ]
    },
    {
      "cell_type": "code",
      "execution_count": 18,
      "id": "a3c8f899",
      "metadata": {
        "colab": {
          "base_uri": "https://localhost:8080/"
        },
        "id": "a3c8f899",
        "outputId": "e86af189-0a67-430d-f316-94c2c56b9cbf"
      },
      "outputs": [
        {
          "output_type": "stream",
          "name": "stdout",
          "text": [
            "Permutation value is  0.0\n"
          ]
        },
        {
          "output_type": "execute_result",
          "data": {
            "text/plain": [
              "0.0"
            ]
          },
          "metadata": {},
          "execution_count": 18
        }
      ],
      "source": [
        "permut_test(old_flt,new_flt,30000)"
      ]
    },
    {
      "cell_type": "code",
      "execution_count": 19,
      "id": "3bd387ad",
      "metadata": {
        "colab": {
          "base_uri": "https://localhost:8080/"
        },
        "id": "3bd387ad",
        "outputId": "bccc5741-b623-4a1c-83b3-0eb1b3eae516"
      },
      "outputs": [
        {
          "output_type": "execute_result",
          "data": {
            "text/plain": [
              "array([18, 15, 18, 16, 17, 15, 14, 14, 14, 15, 15, 14, 15, 14, 22, 18, 21,\n",
              "       21, 10, 10, 11,  9, 28, 25, 19, 16, 17, 19, 18, 14, 14, 14, 14, 12,\n",
              "       13, 13, 18, 22, 19, 18, 23, 26, 25, 20, 21, 13, 14, 15, 14, 17, 11,\n",
              "       13, 12, 13, 15, 13, 13, 14, 22, 28, 13, 14, 13, 14, 15, 12, 13, 13,\n",
              "       14, 13, 12, 13, 18, 16, 18, 18, 23, 11, 12, 13, 12, 18, 21, 19, 21,\n",
              "       15, 16, 15, 11, 20, 21, 19, 15, 26, 25, 16, 16, 18, 16, 13, 14, 14,\n",
              "       14, 28, 19, 18, 15, 15, 16, 15, 16, 14, 17, 16, 15, 18, 21, 20, 13,\n",
              "       23, 20, 23, 18, 19, 25, 26, 18, 16, 16, 15, 22, 22, 24, 23, 29, 25,\n",
              "       20, 18, 19, 18, 27, 13, 17, 13, 13, 13, 30, 26, 18, 17, 16, 15, 18,\n",
              "       21, 19, 19, 16, 16, 16, 16, 25, 26, 31, 34, 36, 20, 19, 20, 19, 21,\n",
              "       20, 25, 21, 19, 21, 21, 19, 18, 19, 18, 18, 18, 30, 31, 23, 24, 22,\n",
              "       20, 22, 20, 21, 17, 18, 17, 18, 17, 16, 19, 19, 36, 27, 23, 24, 34,\n",
              "       35, 28, 29, 27, 34, 32, 28, 26, 24, 19, 28, 24, 27, 27, 26, 24, 30,\n",
              "       39, 35, 34, 30, 22, 27, 20, 18, 28, 27, 34, 31, 29, 27, 24, 23, 38,\n",
              "       36, 25, 38, 26, 22, 36, 27, 27, 32, 28, 31])"
            ]
          },
          "metadata": {},
          "execution_count": 19
        }
      ],
      "source": [
        "np.array(Vehicle_df['Current fleet'])"
      ]
    },
    {
      "cell_type": "code",
      "execution_count": 55,
      "id": "6af9eb0e",
      "metadata": {
        "colab": {
          "base_uri": "https://localhost:8080/"
        },
        "id": "6af9eb0e",
        "outputId": "2b08c979-b530-4ecd-ce28-2139a6cbc235"
      },
      "outputs": [
        {
          "output_type": "execute_result",
          "data": {
            "text/plain": [
              "(20.153687550200804, 19.626506024096386, 20.686746987951807)"
            ]
          },
          "metadata": {},
          "execution_count": 55
        }
      ],
      "source": [
        "bootstrap_mean_ci(old_flt,len(old_flt),10000,80)"
      ]
    },
    {
      "cell_type": "code",
      "execution_count": 21,
      "id": "c484e7d2",
      "metadata": {
        "id": "c484e7d2"
      },
      "outputs": [],
      "source": [
        "# Load the voting data\n",
        "dem_share_PA = [60.08, 40.64, 36.07, 41.21, 31.04, 43.78, 44.08, 46.85, 44.71, 46.15, 63.10, 52.20, 43.18, 40.24, 39.92, 47.87, 37.77, 40.11, 49.85, 48.61, 38.62, 54.25, 34.84, 47.75, 43.82, 55.97, 58.23, 42.97, 42.38, 36.11, 37.53, 42.65, 50.96, 47.43, 56.24, 45.60, 46.39, 35.22, 48.56, 32.97, 57.88, 36.05, 37.72, 50.36, 32.12, 41.55, 54.66, 57.81, 54.58, 32.88, 54.37, 40.45, 47.61, 60.49, 43.11, 27.32, 44.03, 33.56, 37.26, 54.64, 43.12, 25.34, 49.79, 83.56, 40.09, 60.81, 49.81]\n",
        "dem_share_OH = [56.94, 50.46, 65.99, 45.88, 42.23, 45.26, 57.01, 53.61, 59.10, 61.48, 43.43, 44.69, 54.59, 48.36, 45.89, 48.62, 43.92, 38.23, 28.79, 63.57, 38.07, 40.18, 43.05, 41.56, 42.49, 36.06, 52.76, 46.07, 39.43, 39.26, 47.47, 27.92, 38.01, 45.45, 29.07, 28.94, 51.28, 50.10, 39.84, 36.43, 35.71, 31.47, 47.01, 40.10, 48.76, 31.56, 39.86, 45.31, 35.47, 51.38, 46.33, 48.73, 41.77, 41.32, 48.46, 53.14, 34.01, 54.74, 40.67, 38.96, 46.29, 38.25, 6.80, 31.75, 46.33, 44.90, 33.57, 38.10, 39.67, 40.47, 49.44, 37.62, 36.71, 46.73, 42.20, 53.16, 52.40, 58.36, 68.02, 38.53, 34.58, 69.64, 60.50, 53.53, 36.54, 49.58, 41.97, 38.11]"
      ]
    },
    {
      "cell_type": "code",
      "execution_count": 22,
      "id": "776f0e05",
      "metadata": {
        "colab": {
          "base_uri": "https://localhost:8080/"
        },
        "id": "776f0e05",
        "outputId": "8545a1d8-0d1e-4b0b-c94c-e0a470deb80e"
      },
      "outputs": [
        {
          "output_type": "stream",
          "name": "stdout",
          "text": [
            "67\n",
            "88\n"
          ]
        }
      ],
      "source": [
        "print(len(dem_share_PA))\n",
        "\n",
        "print(len(dem_share_OH))"
      ]
    },
    {
      "cell_type": "code",
      "execution_count": 23,
      "id": "3421a8a0",
      "metadata": {
        "id": "3421a8a0"
      },
      "outputs": [],
      "source": [
        "pa = pd.DataFrame(dem_share_PA)\n",
        "oh = pd.DataFrame(dem_share_OH)"
      ]
    },
    {
      "cell_type": "code",
      "execution_count": 24,
      "id": "c7a99709",
      "metadata": {
        "colab": {
          "base_uri": "https://localhost:8080/"
        },
        "id": "c7a99709",
        "outputId": "88688c38-3101-44ab-b361-6abfc91aedd6"
      },
      "outputs": [
        {
          "output_type": "execute_result",
          "data": {
            "text/plain": [
              "0    45.476418\n",
              "dtype: float64"
            ]
          },
          "metadata": {},
          "execution_count": 24
        }
      ],
      "source": [
        "pa.mean()"
      ]
    },
    {
      "cell_type": "code",
      "execution_count": 25,
      "id": "0ae5454b",
      "metadata": {
        "colab": {
          "base_uri": "https://localhost:8080/"
        },
        "id": "0ae5454b",
        "outputId": "bc399196-551c-4e3e-8382-831240223325"
      },
      "outputs": [
        {
          "output_type": "execute_result",
          "data": {
            "text/plain": [
              "0    44.318182\n",
              "dtype: float64"
            ]
          },
          "metadata": {},
          "execution_count": 25
        }
      ],
      "source": [
        "oh.mean()"
      ]
    },
    {
      "cell_type": "code",
      "execution_count": 59,
      "id": "cc9215f3",
      "metadata": {
        "colab": {
          "base_uri": "https://localhost:8080/"
        },
        "id": "cc9215f3",
        "outputId": "8804beb0-50db-4b0b-8d9b-63a183744944"
      },
      "outputs": [
        {
          "output_type": "execute_result",
          "data": {
            "text/plain": [
              "(44.31484467045455, 42.233181818181826, 46.36217613636362)"
            ]
          },
          "metadata": {},
          "execution_count": 59
        }
      ],
      "source": [
        "bootstrap_mean_ci(dem_share_OH,len(dem_share_OH),20000,95)"
      ]
    },
    {
      "cell_type": "code",
      "execution_count": 60,
      "id": "0a50a9cb",
      "metadata": {
        "colab": {
          "base_uri": "https://localhost:8080/"
        },
        "id": "0a50a9cb",
        "outputId": "3dd71d4b-dafb-48c4-b7fd-beb460d6bfdb"
      },
      "outputs": [
        {
          "output_type": "execute_result",
          "data": {
            "text/plain": [
              "(45.48022315671642, 43.219097014925374, 47.87004477611939)"
            ]
          },
          "metadata": {},
          "execution_count": 60
        }
      ],
      "source": [
        "bootstrap_mean_ci(dem_share_PA,len(dem_share_PA),20000,95)"
      ]
    },
    {
      "cell_type": "code",
      "execution_count": 61,
      "id": "2a4392d8",
      "metadata": {
        "colab": {
          "base_uri": "https://localhost:8080/"
        },
        "id": "2a4392d8",
        "outputId": "a8519771-4ba7-4c2a-805e-721b40e44ed6"
      },
      "outputs": [
        {
          "output_type": "stream",
          "name": "stdout",
          "text": [
            "Permutation value is  0.2374\n"
          ]
        },
        {
          "output_type": "execute_result",
          "data": {
            "text/plain": [
              "0.2374"
            ]
          },
          "metadata": {},
          "execution_count": 61
        }
      ],
      "source": [
        "permut_test(dem_share_OH,dem_share_PA,10000)"
      ]
    },
    {
      "cell_type": "code",
      "execution_count": 29,
      "id": "c82c0c44",
      "metadata": {
        "id": "c82c0c44"
      },
      "outputs": [],
      "source": [
        " def bootstrap_mean_ci_sd(sample, sample_size, n_bootstraps, ci):\n",
        "\t# <---INSERT YOUR CODE HERE--->\n",
        "  ci_low=(100-ci)/2\n",
        "  ci_hi=ci+ci_low\n",
        "  # print(ci_low,ci_hi)\n",
        "  arr=[]\n",
        "  # print(np.random.choice(x,sample_size))\n",
        "  for i in range(0,n_bootstraps):\n",
        "    arr.append(np.std(np.random.choice(sample,sample_size)))\n",
        "  data_mean=np.std(arr)\n",
        "  lower=np.percentile(arr,ci_low)\n",
        "  upper=np.percentile(arr,ci_hi)\n",
        "  return data_mean, lower, upper"
      ]
    },
    {
      "cell_type": "code",
      "execution_count": 41,
      "id": "49094717",
      "metadata": {
        "colab": {
          "base_uri": "https://localhost:8080/"
        },
        "id": "49094717",
        "outputId": "7e1dd5e4-c508-4f7e-b7bb-51627fee0f0b"
      },
      "outputs": [
        {
          "output_type": "execute_result",
          "data": {
            "text/plain": [
              "(0.2886255010180211, 6.001715049778733, 6.748524638484881)"
            ]
          },
          "metadata": {},
          "execution_count": 41
        }
      ],
      "source": [
        "bootstrap_mean_ci_sd(old_flt, len(old_flt), 10000, 80)"
      ]
    },
    {
      "cell_type": "code",
      "execution_count": 48,
      "id": "4aea81f1",
      "metadata": {
        "colab": {
          "base_uri": "https://localhost:8080/"
        },
        "id": "4aea81f1",
        "outputId": "bd53e357-5f33-4c3f-e4d5-0cce798d744b"
      },
      "outputs": [
        {
          "output_type": "execute_result",
          "data": {
            "text/plain": [
              "(30.469339240506326, 29.59493670886076, 31.354430379746834)"
            ]
          },
          "metadata": {},
          "execution_count": 48
        }
      ],
      "source": [
        "bootstrap_mean_ci(new_flt, len(new_flt), 10000, 80)"
      ]
    },
    {
      "cell_type": "code",
      "execution_count": 51,
      "id": "0617de6b",
      "metadata": {
        "colab": {
          "base_uri": "https://localhost:8080/"
        },
        "id": "0617de6b",
        "outputId": "163261b4-8005-4ec5-d723-9855051e69ef"
      },
      "outputs": [
        {
          "output_type": "execute_result",
          "data": {
            "text/plain": [
              "(0.29001574289795806, 5.625882782857211, 7.0949616508144056)"
            ]
          },
          "metadata": {},
          "execution_count": 51
        }
      ],
      "source": [
        "bootstrap_mean_ci_sd(old_flt,len(old_flt),10000,99)"
      ]
    },
    {
      "cell_type": "code",
      "execution_count": 57,
      "id": "278fd3ef",
      "metadata": {
        "colab": {
          "base_uri": "https://localhost:8080/"
        },
        "id": "278fd3ef",
        "outputId": "f1733548-38ff-480b-c8eb-8a39f9787421"
      },
      "outputs": [
        {
          "output_type": "execute_result",
          "data": {
            "text/plain": [
              "(0.44832053565796653, 4.8706885286468715, 7.166234316330181)"
            ]
          },
          "metadata": {},
          "execution_count": 57
        }
      ],
      "source": [
        "bootstrap_mean_ci_sd(new_flt,len(new_flt),10000,99)"
      ]
    },
    {
      "cell_type": "code",
      "execution_count": 56,
      "id": "d8e0ffe0",
      "metadata": {
        "colab": {
          "base_uri": "https://localhost:8080/"
        },
        "id": "d8e0ffe0",
        "outputId": "ed3ce82f-5e8b-4a65-b6d2-025613077c62"
      },
      "outputs": [
        {
          "output_type": "execute_result",
          "data": {
            "text/plain": [
              "(9.215528571428571, 6.357142857142857, 12.357142857142858)"
            ]
          },
          "metadata": {},
          "execution_count": 56
        }
      ],
      "source": [
        "bootstrap_mean_ci(data, data.shape[0], 10000, 95)"
      ]
    },
    {
      "cell_type": "code",
      "execution_count": 58,
      "id": "999355e6",
      "metadata": {
        "colab": {
          "base_uri": "https://localhost:8080/"
        },
        "id": "999355e6",
        "outputId": "1a42e3e5-896d-4693-d709-12600b005604"
      },
      "outputs": [
        {
          "output_type": "execute_result",
          "data": {
            "text/plain": [
              "(1.1988970396670648, 3.0169588688489823, 7.10322933931023)"
            ]
          },
          "metadata": {},
          "execution_count": 58
        }
      ],
      "source": [
        "bootstrap_mean_ci_sd(data, data.shape[0],10000,90)"
      ]
    }
  ],
  "metadata": {
    "kernelspec": {
      "display_name": "Python 3",
      "language": "python",
      "name": "python3"
    },
    "language_info": {
      "codemirror_mode": {
        "name": "ipython",
        "version": 3
      },
      "file_extension": ".py",
      "mimetype": "text/x-python",
      "name": "python",
      "nbconvert_exporter": "python",
      "pygments_lexer": "ipython3",
      "version": "3.8.8"
    },
    "colab": {
      "name": "Bootstrap_Latest.ipynb",
      "provenance": []
    }
  },
  "nbformat": 4,
  "nbformat_minor": 5
}