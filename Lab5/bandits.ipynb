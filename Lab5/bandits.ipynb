{
  "nbformat": 4,
  "nbformat_minor": 0,
  "metadata": {
    "kernelspec": {
      "display_name": "Python 3",
      "language": "python",
      "name": "python3"
    },
    "language_info": {
      "codemirror_mode": {
        "name": "ipython",
        "version": 3
      },
      "file_extension": ".py",
      "mimetype": "text/x-python",
      "name": "python",
      "nbconvert_exporter": "python",
      "pygments_lexer": "ipython3",
      "version": "3.7.6"
    },
    "colab": {
      "name": "bandits.ipynb",
      "provenance": [],
      "collapsed_sections": []
    }
  },
  "cells": [
    {
      "cell_type": "code",
      "metadata": {
        "id": "G_ohAqyeAWh5"
      },
      "source": [
        "import numpy as np\n",
        "import matplotlib.pyplot as plt"
      ],
      "execution_count": 1,
      "outputs": []
    },
    {
      "cell_type": "code",
      "metadata": {
        "id": "NyfMa-ZzAWia"
      },
      "source": [
        "# Define our actions\n",
        "\n",
        "def action_0():\n",
        "    return np.random.choice([1, 0], p=[0.5, 0.5])\n",
        "\n",
        "def action_1():\n",
        "    return np.random.choice([1, 0], p=[0.6, 0.4])\n",
        "\n",
        "def action_2():\n",
        "    return np.random.choice([1, 0], p=[0.2, 0.8])\n",
        "\n",
        "rewards = [action_0, action_1, action_2]"
      ],
      "execution_count": 2,
      "outputs": []
    },
    {
      "cell_type": "code",
      "metadata": {
        "colab": {
          "base_uri": "https://localhost:8080/"
        },
        "id": "8OMYEfKiAWig",
        "outputId": "36d23f6b-c350-477a-b117-3e1f67b1845a"
      },
      "source": [
        "for i in range(10):\n",
        "    print('Pull %d (action_0): reward=%d' % (i, rewards[0]()))"
      ],
      "execution_count": 3,
      "outputs": [
        {
          "output_type": "stream",
          "name": "stdout",
          "text": [
            "Pull 0 (action_0): reward=0\n",
            "Pull 1 (action_0): reward=0\n",
            "Pull 2 (action_0): reward=0\n",
            "Pull 3 (action_0): reward=0\n",
            "Pull 4 (action_0): reward=1\n",
            "Pull 5 (action_0): reward=1\n",
            "Pull 6 (action_0): reward=0\n",
            "Pull 7 (action_0): reward=0\n",
            "Pull 8 (action_0): reward=1\n",
            "Pull 9 (action_0): reward=1\n"
          ]
        }
      ]
    },
    {
      "cell_type": "code",
      "metadata": {
        "colab": {
          "base_uri": "https://localhost:8080/"
        },
        "id": "VVjefuf9AWip",
        "outputId": "6fc453e3-cf6b-4e66-9db0-0e971f096753"
      },
      "source": [
        "# Simulate action values (Q): expected reward for each action\n",
        "pulls = 100000\n",
        "\n",
        "action_values = []\n",
        "for reward in rewards:\n",
        "    value = [reward() for _ in range(pulls)]  # execute each of the actions 'pulls' times\n",
        "    action_values.append(value)\n",
        "\n",
        "for action, value in enumerate(action_values):\n",
        "    print(\"Action %d: Q(a_%d)=%.2f\" % (action, action, np.mean(value)))"
      ],
      "execution_count": 4,
      "outputs": [
        {
          "output_type": "stream",
          "name": "stdout",
          "text": [
            "Action 0: Q(a_0)=0.50\n",
            "Action 1: Q(a_1)=0.60\n",
            "Action 2: Q(a_2)=0.20\n"
          ]
        }
      ]
    },
    {
      "cell_type": "code",
      "metadata": {
        "id": "6wY2EchRAWiu"
      },
      "source": [
        "# To simulate the values (V), we need to define a policy\n",
        "# (Value is the expected reward given the policy I'm following)\n",
        "\n",
        "# Define a policy:\n",
        "def policy_random():\n",
        "    '''Returns which action to perform using equal probabilities for each action'''\n",
        "    return np.random.choice([0, 1, 2], p=[1/3, 1/3, 1/3])\n",
        "\n",
        "\n",
        "def policy_better():\n",
        "    ''' A better policy than random: we choose actions 0 and 1 more often than action 2'''\n",
        "    return np.random.choice([0, 1, 2], p=[0.4, 0.5, 0.1])\n"
      ],
      "execution_count": 5,
      "outputs": []
    },
    {
      "cell_type": "code",
      "metadata": {
        "colab": {
          "base_uri": "https://localhost:8080/"
        },
        "id": "Qn70-2BnAWiy",
        "outputId": "b78832dd-40bf-4395-e267-92b8519d9141"
      },
      "source": [
        "# Simulate Values using the random policy\n",
        "total_reward = 0\n",
        "for pull in range(pulls):\n",
        "    action = policy_random()\n",
        "    total_reward += rewards[action]()\n",
        "print(\"Total reward =\", total_reward)\n",
        "print(\"Average reward: V =\", total_reward/pulls)"
      ],
      "execution_count": 6,
      "outputs": [
        {
          "output_type": "stream",
          "name": "stdout",
          "text": [
            "Total reward = 43385\n",
            "Average reward: V = 0.43385\n"
          ]
        }
      ]
    },
    {
      "cell_type": "code",
      "metadata": {
        "colab": {
          "base_uri": "https://localhost:8080/"
        },
        "id": "_-6gLUeWAWi3",
        "outputId": "23f37d56-bc6e-4a4d-9338-0026a5f65046"
      },
      "source": [
        "# Simulate Values using the better policy\n",
        "total_reward = 0\n",
        "for pull in range(pulls):\n",
        "    action = policy_better()\n",
        "    total_reward += rewards[action]()\n",
        "print(\"Total reward =\", total_reward)\n",
        "print(\"Average reward: V =\", total_reward/pulls)"
      ],
      "execution_count": 7,
      "outputs": [
        {
          "output_type": "stream",
          "name": "stdout",
          "text": [
            "Total reward = 52094\n",
            "Average reward: V = 0.52094\n"
          ]
        }
      ]
    },
    {
      "cell_type": "code",
      "metadata": {
        "colab": {
          "base_uri": "https://localhost:8080/"
        },
        "id": "vML7aYcDAWi6",
        "outputId": "73059d38-51b1-40af-e581-ab9c8bc2473b"
      },
      "source": [
        "# Regret of the better policy\n",
        "V_star = max([np.mean(value) for value in action_values])\n",
        "print(\"V* =\", V_star)\n",
        "\n",
        "total_regret = 0\n",
        "for pull in range(pulls):\n",
        "    total_regret += (V_star - rewards[policy_better()]())\n",
        "print('Regret: I_t = %.2f' % (total_regret/pulls))"
      ],
      "execution_count": 8,
      "outputs": [
        {
          "output_type": "stream",
          "name": "stdout",
          "text": [
            "V* = 0.59906\n",
            "Regret: I_t = 0.08\n"
          ]
        }
      ]
    },
    {
      "cell_type": "code",
      "metadata": {
        "id": "pkhEOOz8AWi_"
      },
      "source": [
        "# Some bandit policies to explore:\n",
        "\n",
        "def policy_greedy(action_values):\n",
        "    '''Always returns the action for which the payoff is highest'''\n",
        "    best_action = np.argmax([np.mean(value) for value in action_values])\n",
        "    return best_action\n",
        "\n",
        "\n",
        "def policy_e_greedy(action_values, epsilon=0.05):\n",
        "    '''We explore with epsilon probability, and choose the best action the rest of the time'''\n",
        "    explore = np.random.choice([1, 0], p=[epsilon, 1-epsilon])\n",
        "    if explore:\n",
        "        # Random action\n",
        "        return policy_random()\n",
        "    else:\n",
        "        # Choose best action\n",
        "        return policy_greedy(action_values)\n",
        "\n"
      ],
      "execution_count": 9,
      "outputs": []
    },
    {
      "cell_type": "code",
      "metadata": {
        "id": "wyGqo1sTAWjC"
      },
      "source": [
        "# Implementing the decaying epsilon-greedy properly requires a class definition so we can store the epsilon values\n",
        "class DecayingEGreedy:\n",
        "    \n",
        "    def __init__(self, epsilon, decay=0.99, lower_bound=0):\n",
        "        self.epsilon = epsilon\n",
        "        self.decay = decay\n",
        "        self.lower_bound = lower_bound\n",
        "        \n",
        "    def policy(self, action_values):\n",
        "        if self.lower_bound > 0 and self.epsilon > self.lower_bound:\n",
        "            self.epsilon *= self.decay  # update epsilon\n",
        "        explore = np.random.choice([1, 0], p=[self.epsilon, 1-self.epsilon])  # explore vs exploit decision\n",
        "        if explore:\n",
        "            # Random action\n",
        "            return policy_random()\n",
        "        else:\n",
        "            # Choose best action\n",
        "            return policy_greedy(action_values)\n"
      ],
      "execution_count": 10,
      "outputs": []
    },
    {
      "cell_type": "code",
      "metadata": {
        "scrolled": true,
        "id": "fT5ZzbfZAWjE",
        "outputId": "91ed7a4a-27be-4858-873d-6fc2162d4f1c",
        "colab": {
          "base_uri": "https://localhost:8080/"
        }
      },
      "source": [
        "# Let's test the decaying epsilon-greedy approach\n",
        "agent = DecayingEGreedy(epsilon=0.1, decay=0.99, lower_bound=0.03)\n",
        "\n",
        "# Full problem:\n",
        "action_values = [[], [], []] # initialise values\n",
        "rewards_decaying_e_greedy = []\n",
        "total_reward = 0\n",
        "print('Number of pulls\\t\\tTotal reward\\t\\tV')\n",
        "for pull in range(pulls):\n",
        "    action = agent.policy(action_values)  # choose action according to policy\n",
        "    reward = rewards[action]()  # get reward\n",
        "    action_values[action].append(reward)  # update action_values so we make better decisions down the line\n",
        "    total_reward += reward\n",
        "    if (pull+1) % 1000 == 0:\n",
        "        print('%d\\t\\t\\t%d\\t\\t\\t%.3f' % (pull+1, total_reward, total_reward/pull))\n",
        "        rewards_decaying_e_greedy.append(total_reward/pull)\n",
        "\n"
      ],
      "execution_count": 11,
      "outputs": [
        {
          "output_type": "stream",
          "name": "stdout",
          "text": [
            "Number of pulls\t\tTotal reward\t\tV\n",
            "1000\t\t\t564\t\t\t0.565\n"
          ]
        },
        {
          "output_type": "stream",
          "name": "stderr",
          "text": [
            "/usr/local/lib/python3.7/dist-packages/numpy/core/fromnumeric.py:3441: RuntimeWarning: Mean of empty slice.\n",
            "  out=out, **kwargs)\n",
            "/usr/local/lib/python3.7/dist-packages/numpy/core/_methods.py:189: RuntimeWarning: invalid value encountered in double_scalars\n",
            "  ret = ret.dtype.type(ret / rcount)\n"
          ]
        },
        {
          "output_type": "stream",
          "name": "stdout",
          "text": [
            "2000\t\t\t1157\t\t\t0.579\n",
            "3000\t\t\t1740\t\t\t0.580\n",
            "4000\t\t\t2318\t\t\t0.580\n",
            "5000\t\t\t2893\t\t\t0.579\n",
            "6000\t\t\t3502\t\t\t0.584\n",
            "7000\t\t\t4110\t\t\t0.587\n",
            "8000\t\t\t4707\t\t\t0.588\n",
            "9000\t\t\t5266\t\t\t0.585\n",
            "10000\t\t\t5856\t\t\t0.586\n",
            "11000\t\t\t6483\t\t\t0.589\n",
            "12000\t\t\t7096\t\t\t0.591\n",
            "13000\t\t\t7691\t\t\t0.592\n",
            "14000\t\t\t8285\t\t\t0.592\n",
            "15000\t\t\t8870\t\t\t0.591\n",
            "16000\t\t\t9471\t\t\t0.592\n",
            "17000\t\t\t10067\t\t\t0.592\n",
            "18000\t\t\t10662\t\t\t0.592\n",
            "19000\t\t\t11265\t\t\t0.593\n",
            "20000\t\t\t11865\t\t\t0.593\n",
            "21000\t\t\t12456\t\t\t0.593\n",
            "22000\t\t\t13069\t\t\t0.594\n",
            "23000\t\t\t13646\t\t\t0.593\n",
            "24000\t\t\t14256\t\t\t0.594\n",
            "25000\t\t\t14866\t\t\t0.595\n",
            "26000\t\t\t15476\t\t\t0.595\n",
            "27000\t\t\t16045\t\t\t0.594\n",
            "28000\t\t\t16635\t\t\t0.594\n",
            "29000\t\t\t17248\t\t\t0.595\n",
            "30000\t\t\t17839\t\t\t0.595\n",
            "31000\t\t\t18431\t\t\t0.595\n",
            "32000\t\t\t19035\t\t\t0.595\n",
            "33000\t\t\t19609\t\t\t0.594\n",
            "34000\t\t\t20193\t\t\t0.594\n",
            "35000\t\t\t20787\t\t\t0.594\n",
            "36000\t\t\t21380\t\t\t0.594\n",
            "37000\t\t\t21975\t\t\t0.594\n",
            "38000\t\t\t22585\t\t\t0.594\n",
            "39000\t\t\t23207\t\t\t0.595\n",
            "40000\t\t\t23815\t\t\t0.595\n",
            "41000\t\t\t24407\t\t\t0.595\n",
            "42000\t\t\t24996\t\t\t0.595\n",
            "43000\t\t\t25585\t\t\t0.595\n",
            "44000\t\t\t26190\t\t\t0.595\n",
            "45000\t\t\t26779\t\t\t0.595\n",
            "46000\t\t\t27379\t\t\t0.595\n",
            "47000\t\t\t27977\t\t\t0.595\n",
            "48000\t\t\t28581\t\t\t0.595\n",
            "49000\t\t\t29194\t\t\t0.596\n",
            "50000\t\t\t29768\t\t\t0.595\n",
            "51000\t\t\t30364\t\t\t0.595\n",
            "52000\t\t\t30943\t\t\t0.595\n",
            "53000\t\t\t31540\t\t\t0.595\n",
            "54000\t\t\t32132\t\t\t0.595\n",
            "55000\t\t\t32735\t\t\t0.595\n",
            "56000\t\t\t33316\t\t\t0.595\n",
            "57000\t\t\t33913\t\t\t0.595\n",
            "58000\t\t\t34494\t\t\t0.595\n",
            "59000\t\t\t35094\t\t\t0.595\n",
            "60000\t\t\t35703\t\t\t0.595\n",
            "61000\t\t\t36307\t\t\t0.595\n",
            "62000\t\t\t36930\t\t\t0.596\n",
            "63000\t\t\t37524\t\t\t0.596\n",
            "64000\t\t\t38125\t\t\t0.596\n",
            "65000\t\t\t38702\t\t\t0.595\n",
            "66000\t\t\t39310\t\t\t0.596\n",
            "67000\t\t\t39913\t\t\t0.596\n",
            "68000\t\t\t40518\t\t\t0.596\n",
            "69000\t\t\t41104\t\t\t0.596\n",
            "70000\t\t\t41725\t\t\t0.596\n",
            "71000\t\t\t42308\t\t\t0.596\n",
            "72000\t\t\t42916\t\t\t0.596\n",
            "73000\t\t\t43510\t\t\t0.596\n",
            "74000\t\t\t44088\t\t\t0.596\n",
            "75000\t\t\t44672\t\t\t0.596\n",
            "76000\t\t\t45242\t\t\t0.595\n",
            "77000\t\t\t45843\t\t\t0.595\n",
            "78000\t\t\t46452\t\t\t0.596\n",
            "79000\t\t\t47048\t\t\t0.596\n",
            "80000\t\t\t47660\t\t\t0.596\n",
            "81000\t\t\t48219\t\t\t0.595\n",
            "82000\t\t\t48831\t\t\t0.596\n",
            "83000\t\t\t49439\t\t\t0.596\n",
            "84000\t\t\t50037\t\t\t0.596\n",
            "85000\t\t\t50645\t\t\t0.596\n",
            "86000\t\t\t51217\t\t\t0.596\n",
            "87000\t\t\t51824\t\t\t0.596\n",
            "88000\t\t\t52422\t\t\t0.596\n",
            "89000\t\t\t53017\t\t\t0.596\n",
            "90000\t\t\t53626\t\t\t0.596\n",
            "91000\t\t\t54217\t\t\t0.596\n",
            "92000\t\t\t54810\t\t\t0.596\n",
            "93000\t\t\t55388\t\t\t0.596\n",
            "94000\t\t\t56005\t\t\t0.596\n",
            "95000\t\t\t56597\t\t\t0.596\n",
            "96000\t\t\t57185\t\t\t0.596\n",
            "97000\t\t\t57784\t\t\t0.596\n",
            "98000\t\t\t58379\t\t\t0.596\n",
            "99000\t\t\t58971\t\t\t0.596\n",
            "100000\t\t\t59565\t\t\t0.596\n"
          ]
        }
      ]
    },
    {
      "cell_type": "code",
      "metadata": {
        "id": "uLHnVY5AAWjL",
        "outputId": "a360da73-6947-44bb-ff05-b3daa004e727",
        "colab": {
          "base_uri": "https://localhost:8080/",
          "height": 297
        }
      },
      "source": [
        "plt.plot(np.arange(1000, pulls+1, step=1000), rewards_decaying_e_greedy)\n",
        "plt.xlabel(\"Iterations\")\n",
        "plt.ylabel(\"Average reward (V)\")\n",
        "# The average reward is 0.594, which is very close to V* (0.6)!"
      ],
      "execution_count": 12,
      "outputs": [
        {
          "output_type": "execute_result",
          "data": {
            "text/plain": [
              "Text(0, 0.5, 'Average reward (V)')"
            ]
          },
          "metadata": {},
          "execution_count": 12
        },
        {
          "output_type": "display_data",
          "data": {
            "text/plain": [
              "<Figure size 432x288 with 1 Axes>"
            ],
            "image/png": "[encoded data removed]"
          },
          "metadata": {
            "needs_background": "light"
          }
        }
      ]
    },
    {
      "cell_type": "code",
      "metadata": {
        "id": "KeR_XuqUAWjO"
      },
      "source": [
        "# Implementing the decaying epsilon-greedy properly requires a class definition so we can store the epsilon values\n",
        "class UCB:\n",
        "    \n",
        "    def __init__(self, C=0.5, n_arms=3):\n",
        "        self.C = C\n",
        "        self.pulls = 0\n",
        "        self.counts = np.asarray([0] * n_arms)\n",
        "        \n",
        "    def update_counts(self, arm):\n",
        "        self.pulls += 1\n",
        "        self.counts[arm] += 1\n",
        "        \n",
        "    def policy(self, action_values):\n",
        "        action_values = np.asarray([np.mean(value) for value in action_values])\n",
        "        uncertainty = np.sqrt(np.log(self.pulls) / self.counts)\n",
        "        ucb = action_values + self.C * uncertainty\n",
        "        action = np.argmax(ucb)\n",
        "        self.update_counts(action)\n",
        "        return action\n"
      ],
      "execution_count": 13,
      "outputs": []
    },
    {
      "cell_type": "code",
      "metadata": {
        "scrolled": true,
        "id": "eRI6_3tCAWjP",
        "outputId": "4018465b-60ce-43cc-a20c-9e3058a673f3",
        "colab": {
          "base_uri": "https://localhost:8080/"
        }
      },
      "source": [
        "# Let's test the decaying epsilon-greedy approach\n",
        "agent = UCB(C=0.5)\n",
        "\n",
        "# Full problem:\n",
        "action_values = [[], [], []] # initialise values\n",
        "total_reward = 0 # reset reward\n",
        "rewards_ucb = []\n",
        "print('Number of pulls\\t\\tTotal reward\\t\\tV')\n",
        "for pull in range(pulls):\n",
        "    action = agent.policy(action_values)  # choose action according to policy\n",
        "    reward = rewards[action]()  # get reward\n",
        "    action_values[action].append(reward)  # update action_values so we make better decisions down the line\n",
        "    total_reward += reward\n",
        "    if (pull+1) % 1000 == 0:\n",
        "        print('%d\\t\\t\\t%d\\t\\t\\t%.3f' % (pull+1, total_reward, total_reward/pull))\n",
        "        rewards_ucb.append(total_reward/pull)\n"
      ],
      "execution_count": 14,
      "outputs": [
        {
          "output_type": "stream",
          "name": "stdout",
          "text": [
            "Number of pulls\t\tTotal reward\t\tV\n",
            "1000\t\t\t573\t\t\t0.574\n"
          ]
        },
        {
          "output_type": "stream",
          "name": "stderr",
          "text": [
            "/usr/local/lib/python3.7/dist-packages/numpy/core/fromnumeric.py:3441: RuntimeWarning: Mean of empty slice.\n",
            "  out=out, **kwargs)\n",
            "/usr/local/lib/python3.7/dist-packages/numpy/core/_methods.py:189: RuntimeWarning: invalid value encountered in double_scalars\n",
            "  ret = ret.dtype.type(ret / rcount)\n",
            "/usr/local/lib/python3.7/dist-packages/ipykernel_launcher.py:15: RuntimeWarning: divide by zero encountered in log\n",
            "  from ipykernel import kernelapp as app\n",
            "/usr/local/lib/python3.7/dist-packages/ipykernel_launcher.py:15: RuntimeWarning: invalid value encountered in sqrt\n",
            "  from ipykernel import kernelapp as app\n",
            "/usr/local/lib/python3.7/dist-packages/ipykernel_launcher.py:15: RuntimeWarning: invalid value encountered in true_divide\n",
            "  from ipykernel import kernelapp as app\n",
            "/usr/local/lib/python3.7/dist-packages/ipykernel_launcher.py:15: RuntimeWarning: divide by zero encountered in true_divide\n",
            "  from ipykernel import kernelapp as app\n"
          ]
        },
        {
          "output_type": "stream",
          "name": "stdout",
          "text": [
            "2000\t\t\t1184\t\t\t0.592\n",
            "3000\t\t\t1776\t\t\t0.592\n",
            "4000\t\t\t2389\t\t\t0.597\n",
            "5000\t\t\t2973\t\t\t0.595\n",
            "6000\t\t\t3577\t\t\t0.596\n",
            "7000\t\t\t4176\t\t\t0.597\n",
            "8000\t\t\t4775\t\t\t0.597\n",
            "9000\t\t\t5374\t\t\t0.597\n",
            "10000\t\t\t5986\t\t\t0.599\n",
            "11000\t\t\t6581\t\t\t0.598\n",
            "12000\t\t\t7189\t\t\t0.599\n",
            "13000\t\t\t7806\t\t\t0.601\n",
            "14000\t\t\t8417\t\t\t0.601\n",
            "15000\t\t\t9003\t\t\t0.600\n",
            "16000\t\t\t9581\t\t\t0.599\n",
            "17000\t\t\t10194\t\t\t0.600\n",
            "18000\t\t\t10791\t\t\t0.600\n",
            "19000\t\t\t11377\t\t\t0.599\n",
            "20000\t\t\t11991\t\t\t0.600\n",
            "21000\t\t\t12621\t\t\t0.601\n",
            "22000\t\t\t13219\t\t\t0.601\n",
            "23000\t\t\t13821\t\t\t0.601\n",
            "24000\t\t\t14409\t\t\t0.600\n",
            "25000\t\t\t15013\t\t\t0.601\n",
            "26000\t\t\t15626\t\t\t0.601\n",
            "27000\t\t\t16212\t\t\t0.600\n",
            "28000\t\t\t16810\t\t\t0.600\n",
            "29000\t\t\t17376\t\t\t0.599\n",
            "30000\t\t\t17982\t\t\t0.599\n",
            "31000\t\t\t18578\t\t\t0.599\n",
            "32000\t\t\t19170\t\t\t0.599\n",
            "33000\t\t\t19743\t\t\t0.598\n",
            "34000\t\t\t20347\t\t\t0.598\n",
            "35000\t\t\t20948\t\t\t0.599\n",
            "36000\t\t\t21556\t\t\t0.599\n",
            "37000\t\t\t22137\t\t\t0.598\n",
            "38000\t\t\t22762\t\t\t0.599\n",
            "39000\t\t\t23360\t\t\t0.599\n",
            "40000\t\t\t23982\t\t\t0.600\n",
            "41000\t\t\t24602\t\t\t0.600\n",
            "42000\t\t\t25174\t\t\t0.599\n",
            "43000\t\t\t25782\t\t\t0.600\n",
            "44000\t\t\t26397\t\t\t0.600\n",
            "45000\t\t\t26986\t\t\t0.600\n",
            "46000\t\t\t27544\t\t\t0.599\n",
            "47000\t\t\t28146\t\t\t0.599\n",
            "48000\t\t\t28723\t\t\t0.598\n",
            "49000\t\t\t29316\t\t\t0.598\n",
            "50000\t\t\t29926\t\t\t0.599\n",
            "51000\t\t\t30541\t\t\t0.599\n",
            "52000\t\t\t31150\t\t\t0.599\n",
            "53000\t\t\t31742\t\t\t0.599\n",
            "54000\t\t\t32340\t\t\t0.599\n",
            "55000\t\t\t32956\t\t\t0.599\n",
            "56000\t\t\t33566\t\t\t0.599\n",
            "57000\t\t\t34157\t\t\t0.599\n",
            "58000\t\t\t34762\t\t\t0.599\n",
            "59000\t\t\t35334\t\t\t0.599\n",
            "60000\t\t\t35932\t\t\t0.599\n",
            "61000\t\t\t36529\t\t\t0.599\n",
            "62000\t\t\t37129\t\t\t0.599\n",
            "63000\t\t\t37735\t\t\t0.599\n",
            "64000\t\t\t38317\t\t\t0.599\n",
            "65000\t\t\t38939\t\t\t0.599\n",
            "66000\t\t\t39549\t\t\t0.599\n",
            "67000\t\t\t40146\t\t\t0.599\n",
            "68000\t\t\t40731\t\t\t0.599\n",
            "69000\t\t\t41333\t\t\t0.599\n",
            "70000\t\t\t41945\t\t\t0.599\n",
            "71000\t\t\t42533\t\t\t0.599\n",
            "72000\t\t\t43129\t\t\t0.599\n",
            "73000\t\t\t43705\t\t\t0.599\n",
            "74000\t\t\t44284\t\t\t0.598\n",
            "75000\t\t\t44887\t\t\t0.599\n",
            "76000\t\t\t45477\t\t\t0.598\n",
            "77000\t\t\t46081\t\t\t0.598\n",
            "78000\t\t\t46682\t\t\t0.598\n",
            "79000\t\t\t47254\t\t\t0.598\n",
            "80000\t\t\t47861\t\t\t0.598\n",
            "81000\t\t\t48463\t\t\t0.598\n",
            "82000\t\t\t49061\t\t\t0.598\n",
            "83000\t\t\t49665\t\t\t0.598\n",
            "84000\t\t\t50304\t\t\t0.599\n",
            "85000\t\t\t50915\t\t\t0.599\n",
            "86000\t\t\t51490\t\t\t0.599\n",
            "87000\t\t\t52104\t\t\t0.599\n",
            "88000\t\t\t52675\t\t\t0.599\n",
            "89000\t\t\t53278\t\t\t0.599\n",
            "90000\t\t\t53866\t\t\t0.599\n",
            "91000\t\t\t54471\t\t\t0.599\n",
            "92000\t\t\t55087\t\t\t0.599\n",
            "93000\t\t\t55680\t\t\t0.599\n",
            "94000\t\t\t56266\t\t\t0.599\n",
            "95000\t\t\t56863\t\t\t0.599\n",
            "96000\t\t\t57485\t\t\t0.599\n",
            "97000\t\t\t58087\t\t\t0.599\n",
            "98000\t\t\t58690\t\t\t0.599\n",
            "99000\t\t\t59289\t\t\t0.599\n",
            "100000\t\t\t59883\t\t\t0.599\n"
          ]
        }
      ]
    },
    {
      "cell_type": "code",
      "metadata": {
        "id": "TT8pNLSlAWjR",
        "outputId": "e8f86293-4912-4999-ee35-9e7cf7efeecf",
        "colab": {
          "base_uri": "https://localhost:8080/",
          "height": 297
        }
      },
      "source": [
        "plt.plot(np.arange(1000, pulls+1, step=1000), rewards_ucb)\n",
        "plt.xlabel(\"Iterations\")\n",
        "plt.ylabel(\"Average reward (V)\")"
      ],
      "execution_count": 15,
      "outputs": [
        {
          "output_type": "execute_result",
          "data": {
            "text/plain": [
              "Text(0, 0.5, 'Average reward (V)')"
            ]
          },
          "metadata": {},
          "execution_count": 15
        },
        {
          "output_type": "display_data",
          "data": {
            "text/plain": [
              "<Figure size 432x288 with 1 Axes>"
            ],
            "image/png": "[encoded data removed]"
          },
          "metadata": {
            "needs_background": "light"
          }
        }
      ]
    },
    {
      "cell_type": "code",
      "metadata": {
        "id": "zgfnlMU6AWjT"
      },
      "source": [
        ""
      ],
      "execution_count": null,
      "outputs": []
    }
  ]
}